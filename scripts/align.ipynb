{
 "cells": [
  {
   "cell_type": "code",
   "execution_count": null,
   "metadata": {},
   "outputs": [],
   "source": [
    "from functions import *\n",
    "\n",
    "### User Input ###\n",
    "data_folder = '8883_Unc5'\n",
    "file_extension = 'fasta'  # define the file extension, ie fasta or fast ...\n",
    "min_protein_length = 100  # what is the minimum size you expect\n",
    "M_start = True            # True/False - Do you want all proteins to start with M, if false, you will see and size with the chunck before M\n",
    "print_each = False         # print a short report for each dna file\n",
    "###################\n",
    "\n",
    "files = get_files(data_folder, file_extension)\n",
    "reports = []\n",
    "for a_file in files:\n",
    "    protein = extract_protein(a_file, min_pro_len = min_protein_length, only_starting_with_M = M_start, print_each=print_each)\n",
    "    if protein:\n",
    "        reports.append(protein)\n",
    "print('Out of {} files, {} had protein'.format(len(files), len(reports)))\n",
    "# create protein.fasta\n",
    "           \n",
    "proteins_file = store_proteins(data_folder, reports)\n",
    "print(proteins_file)"
   ]
  },
  {
   "cell_type": "code",
   "execution_count": null,
   "metadata": {},
   "outputs": [],
   "source": [
    "# run allignment\n",
    "all_file = run_msa(proteins_file)\n",
    "print(all_file)"
   ]
  },
  {
   "cell_type": "code",
   "execution_count": null,
   "metadata": {},
   "outputs": [],
   "source": [
    "import panel as pn\n",
    "from Bio import AlignIO\n",
    "from IPython.core.display import display, HTML\n",
    "display(HTML(\"<style>.container { width:100% !important; }</style>\"))\n",
    "\n",
    "pn.extension()\n",
    "aln = AlignIO.read(all_file,'fasta')\n",
    "p = view_alignment(aln, plot_width=2000)\n",
    "pn.pane.Bokeh(p)"
   ]
  },
  {
   "cell_type": "code",
   "execution_count": null,
   "metadata": {},
   "outputs": [],
   "source": []
  }
 ],
 "metadata": {
  "kernelspec": {
   "display_name": "Python 3",
   "language": "python",
   "name": "python3"
  },
  "language_info": {
   "codemirror_mode": {
    "name": "ipython",
    "version": 3
   },
   "file_extension": ".py",
   "mimetype": "text/x-python",
   "name": "python",
   "nbconvert_exporter": "python",
   "pygments_lexer": "ipython3",
   "version": "3.6.4"
  }
 },
 "nbformat": 4,
 "nbformat_minor": 2
}
